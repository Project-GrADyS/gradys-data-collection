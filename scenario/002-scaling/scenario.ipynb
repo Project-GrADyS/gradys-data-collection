{
 "cells": [
  {
   "cell_type": "code",
   "execution_count": 2,
   "id": "be78c068-1a51-4dc9-9884-ae0e7872ddd1",
   "metadata": {},
   "source": [
    "%load_ext tensorboard"
   ],
   "outputs": []
  }
 ],
 "metadata": {
  "kernelspec": {
   "display_name": "Python 3 (ipykernel)",
   "language": "python",
   "name": "python3"
  },
  "language_info": {
   "codemirror_mode": {
    "name": "ipython",
    "version": 3
   },
   "file_extension": ".py",
   "mimetype": "text/x-python",
   "name": "python",
   "nbconvert_exporter": "python",
   "pygments_lexer": "ipython3",
   "version": "3.10.12"
  }
 },
 "nbformat": 4,
 "nbformat_minor": 5
}
