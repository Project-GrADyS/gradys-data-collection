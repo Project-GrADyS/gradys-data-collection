{
 "cells": [
  {
   "cell_type": "code",
   "execution_count": 2,
   "id": "be78c068-1a51-4dc9-9884-ae0e7872ddd1",
   "metadata": {},
   "outputs": [],
   "source": [
    "%load_ext tensorboard"
   ]
  },
  {
   "cell_type": "markdown",
   "id": "82795b85-6d09-4b98-b5b2-77ef21e7309f",
   "metadata": {},
   "source": [
    "# Participants\n",
    "Multiple UAVs and Sensors (defined by variables `num_drones` and `num_sensors`) \n",
    "\n",
    "# Objectives\n",
    "UAVs must collect data from all sensors at least once. UAVs are constantly attempting to collect \n",
    "information from the space around them, so data is automatically collected once they get close\n",
    "enough to a sensor. When all sensors are visited an episode ends.\n",
    "\n",
    "# Constraints\n",
    "- Communication has limited range\n",
    "- UAV speed is limited (and fixed at 10m/s)\n",
    "- All participants must be within a square area of parametrized side.\n",
    "- Episode length is limited\n",
    "\n",
    "# Algorithm\n",
    "The algorithm used to solve this problem was DDPG, adapted \n",
    "from https://docs.cleanrl.dev/rl-algorithms/ddpg/#ddpg_continuous_actionpy. A single RL agent is trained \n",
    "using information from all UAVs (Centralized training with parameter sharing).\n",
    "\n",
    "The agents were integrated into GrADyS-SIM-Nextgen. Iterations happen every 0.5 seconds of simulation time.\n",
    "\n",
    "## State\n",
    "Agents (UAVs) know all agent's positions (including their own), they know their ID, they know the\n",
    "positions of all sensors and they know if sensors were visited or not.\n",
    "\n",
    "## Action\n",
    "Agents chose a direction to travel\n",
    "\n",
    "## Reward\n",
    "- 1 to all agents if all sensor data has been collected\n",
    "- -1 to a specific agent if it leaves the scenario area\n",
    "- 0 otherwise\n",
    "\n",
    "# Training\n",
    "Episodes start with UAVs being placed randomly in a small area in the center of the scenario. Sensors are \n",
    "placed randomly outside of that small area. The simulation runs until the time limit. If an agent leaves\n",
    "the scenario's area the simulation is terminated. If all sensors have been visited, the simulation is\n",
    "terminated.\n",
    "\n",
    "# Parameters\n",
    "These are the parameters being studied:\n",
    "- Number of drones [1, 2]\n",
    "- Number of sensors [1, 2]\n",
    "- Scenario size [50, 100] (size of the side of the scenario square)\n",
    "- Training time [1_000_000, 10_000_000]\n"
   ]
  },
  {
   "cell_type": "markdown",
   "id": "1cf8f334e79d6cf5",
   "metadata": {
    "collapsed": false,
    "jupyter": {
     "outputs_hidden": false
    }
   },
   "source": [
    "# Performance benchmark\n",
    "A benchmark was executed to figure out hot to best run simulation campaigns.\n",
    "\n",
    "Benchmarking code:\n",
    "\n",
    "```python\n",
    "import multiprocessing\n",
    "import subprocess\n",
    "\n",
    "parrallelism = 1\n",
    "\n",
    "experiments = [\n",
    "    [\"python\", \"main.py\", \"--scenario_size=50\", \"--num-drones=1\", \"--num-sensors=1\", f\"--exp_name=bench_parallel_{parrallelism}cpu\", \"--max_episode_length=60\", \"--no-checkpoint-visual-evaluation\", \"--total-timesteps=100000\"]\n",
    "    for _ in range(parrallelism)\n",
    "]\n",
    "\n",
    "def run_experiment(experiment):\n",
    "    print(\"Running experiment: \", experiment)\n",
    "    subprocess.run(experiment)\n",
    "\n",
    "\n",
    "if __name__ == \"__main__\":\n",
    "    pool = multiprocessing.Pool(processes=parrallelism)\n",
    "    pool.map(run_experiment, experiments)\n",
    "```\n",
    "## Results\n",
    "| Parrallelism | Total SPS | Cuda? |\n",
    "| ------------ | --------- | ----- |\n",
    "| 10           | 940       | Yes   |\n",
    "| 8            | 904       | Yes   |\n",
    "| 1            | 280       | Yes   |"
   ]
  },
  {
   "cell_type": "markdown",
   "id": "b5f21d9a903a9d7f",
   "metadata": {
    "collapsed": false,
    "jupyter": {
     "outputs_hidden": false
    }
   },
   "source": [
    "# Preliminary Evaluation\n",
    "Several simulation scenarios were ran to evaluate the algorithm's performance on the scenario.\n",
    "\n",
    "## Parameters\n",
    "These are the parameters being studied:\n",
    "- Number of drones [1, 2]\n",
    "- Number of sensors [1, 2]\n",
    "- Scenario size [50, 100] (size of the side of the scenario square)\n",
    "- Training time [1_000_000, 10_000_000]\n",
    "\n",
    "## Benchmarking code\n",
    "```python\n",
    "import multiprocessing\n",
    "import subprocess\n",
    "from dataclasses import dataclass\n",
    "\n",
    "import tyro\n",
    "\n",
    "\n",
    "@dataclass\n",
    "class Args:\n",
    "    concurrency: int = 3\n",
    "\n",
    "experiments = [\n",
    "    [\"python\", \"main.py\", \"--scenario_size=50\", \"--num-drones=1\", \"--num-sensors=1\", \"--exp_name=1-sensor-1-drone-50-size\", \"--max_episode_length=60\", \"--no-checkpoint-visual-evaluation\"],\n",
    "    [\"python\", \"main.py\", \"--scenario_size=50\", \"--num-drones=1\", \"--num-sensors=2\", \"--exp_name=2-sensor-1-drone-50-size\", \"--max_episode_length=60\", \"--no-checkpoint-visual-evaluation\"],\n",
    "    [\"python\", \"main.py\", \"--scenario_size=50\", \"--num-drones=2\", \"--num-sensors=1\", \"--exp_name=1-sensor-2-drone-50-size\", \"--max_episode_length=60\", \"--no-checkpoint-visual-evaluation\"],\n",
    "    [\"python\", \"main.py\", \"--scenario_size=50\", \"--num-drones=2\", \"--num-sensors=2\", \"--exp_name=2-sensor-2-drone-50-size\", \"--max_episode_length=60\", \"--no-checkpoint-visual-evaluation\"],\n",
    "    [\"python\", \"main.py\", \"--scenario_size=100\", \"--num-drones=1\", \"--num-sensors=1\", \"--exp_name=1-sensor-1-drone-100-size\", \"--max_episode_length=60\", \"--no-checkpoint-visual-evaluation\"],\n",
    "    [\"python\", \"main.py\", \"--scenario_size=100\", \"--num-drones=1\", \"--num-sensors=2\", \"--exp_name=2-sensor-1-drone-100-size\", \"--max_episode_length=60\", \"--no-checkpoint-visual-evaluation\"],\n",
    "    [\"python\", \"main.py\", \"--scenario_size=100\", \"--num-drones=2\", \"--num-sensors=1\", \"--exp_name=1-sensor-2-drone-100-size\", \"--max_episode_length=60\", \"--no-checkpoint-visual-evaluation\"],\n",
    "    [\"python\", \"main.py\", \"--scenario_size=100\", \"--num-drones=2\", \"--num-sensors=2\", \"--exp_name=2-sensor-2-drone-100-size\", \"--max_episode_length=60\", \"--no-checkpoint-visual-evaluation\"],\n",
    "]\n",
    "\n",
    "def run_experiment(experiment):\n",
    "    print(\"Running experiment: \", experiment)\n",
    "    subprocess.run(experiment)\n",
    "\n",
    "\n",
    "if __name__ == \"__main__\":\n",
    "    args = tyro.cli(Args)\n",
    "    pool = multiprocessing.Pool(processes=args.concurrency)\n",
    "    pool.map(run_experiment, experiments)\n",
    "```\n",
    "\n",
    "## Results"
   ]
  },
  {
   "cell_type": "code",
   "execution_count": 2,
   "id": "db3b79f31fbdfbcd",
   "metadata": {
    "ExecuteTime": {
     "end_time": "2024-05-12T22:02:57.511056400Z",
     "start_time": "2024-05-12T22:02:57.450930200Z"
    },
    "collapsed": false,
    "jupyter": {
     "outputs_hidden": false
    }
   },
   "outputs": [
    {
     "data": {
      "text/html": [
       "\n",
       "      <iframe id=\"tensorboard-frame-db410ec17ac67e01\" width=\"100%\" height=\"800\" frameborder=\"0\">\n",
       "      </iframe>\n",
       "      <script>\n",
       "        (function() {\n",
       "          const frame = document.getElementById(\"tensorboard-frame-db410ec17ac67e01\");\n",
       "          const url = new URL(\"/\", window.location);\n",
       "          const port = 6006;\n",
       "          if (port) {\n",
       "            url.port = port;\n",
       "          }\n",
       "          frame.src = url;\n",
       "        })();\n",
       "      </script>\n",
       "    "
      ],
      "text/plain": [
       "<IPython.core.display.HTML object>"
      ]
     },
     "metadata": {},
     "output_type": "display_data"
    }
   ],
   "source": [
    "%tensorboard --logdir runs/preliminary"
   ]
  },
  {
   "cell_type": "markdown",
   "id": "71d629dc-307d-4562-81d0-bb34f02d4f1c",
   "metadata": {},
   "source": [
    "## Conclusions\n",
    "- On a 1 million training routine, some of the hardest scenarios don't optimize\n",
    "- Increasing the scenario area size negatively affects the training results. It makes the exploration of the environment harder, increasing samples needed for an optimal policy to arise\n",
    "- Running training for too long negatively impacts performance. An error in the early stopping strategy left some scenarios running for longer than they should, the negative effects on these scenarios can be easily spotted\n",
    "- The scenario becomes harder the more drones are present. Further evaluation is required on this front"
   ]
  },
  {
   "cell_type": "markdown",
   "id": "2044981f",
   "metadata": {},
   "source": [
    "# Sensor number evaluation\n",
    "Does the system performance scale well with higher sensor counts? \n",
    "\n",
    "## Parameters\n",
    "- Number of drones = 2\n",
    "- Number of sensors = [3, 4, 5, 6, 7, 8, 9, 10]\n",
    "- Scenario square size = 100\n",
    "- Training time = 10mil\n",
    "\n",
    "## Benchmarking code:\n",
    "\n",
    "```python\n",
    "import multiprocessing\n",
    "import subprocess\n",
    "from dataclasses import dataclass\n",
    "\n",
    "import tyro\n",
    "\n",
    "\n",
    "@dataclass\n",
    "class Args:\n",
    "    concurrency: int = 3\n",
    "\n",
    "experiments = [\n",
    "    [\"python\", \"main.py\", \"--scenario_size=100\", \"--num-drones=2\", \"--num-sensors=3\", \"--exp_name=10mil_3-sensor-2-drone-100-size\", \"--max_episode_length=200\", \"--no-checkpoint-visual-evaluation\", \"--run-name=SensorIncrease\", \"--checkpoint-freq=1000000\", \"--total-timesteps=10000000\"],\n",
    "    [\"python\", \"main.py\", \"--scenario_size=100\", \"--num-drones=2\", \"--num-sensors=4\", \"--exp_name=10mil_4-sensor-2-drone-100-size\", \"--max_episode_length=200\", \"--no-checkpoint-visual-evaluation\", \"--run-name=SensorIncrease\", \"--checkpoint-freq=1000000\", \"--total-timesteps=10000000\"],\n",
    "    [\"python\", \"main.py\", \"--scenario_size=100\", \"--num-drones=2\", \"--num-sensors=5\", \"--exp_name=10mil_5-sensor-2-drone-100-size\", \"--max_episode_length=200\", \"--no-checkpoint-visual-evaluation\", \"--run-name=SensorIncrease\", \"--checkpoint-freq=1000000\", \"--total-timesteps=10000000\"],\n",
    "    [\"python\", \"main.py\", \"--scenario_size=100\", \"--num-drones=2\", \"--num-sensors=6\", \"--exp_name=10mil_6-sensor-2-drone-100-size\", \"--max_episode_length=200\", \"--no-checkpoint-visual-evaluation\", \"--run-name=SensorIncrease\", \"--checkpoint-freq=1000000\", \"--total-timesteps=10000000\"],\n",
    "    [\"python\", \"main.py\", \"--scenario_size=100\", \"--num-drones=2\", \"--num-sensors=7\", \"--exp_name=10mil_7-sensor-2-drone-100-size\", \"--max_episode_length=200\", \"--no-checkpoint-visual-evaluation\", \"--run-name=SensorIncrease\", \"--checkpoint-freq=1000000\", \"--total-timesteps=10000000\"],\n",
    "    [\"python\", \"main.py\", \"--scenario_size=100\", \"--num-drones=2\", \"--num-sensors=8\", \"--exp_name=10mil_8-sensor-2-drone-100-size\", \"--max_episode_length=200\", \"--no-checkpoint-visual-evaluation\", \"--run-name=SensorIncrease\", \"--checkpoint-freq=1000000\", \"--total-timesteps=10000000\"],\n",
    "    [\"python\", \"main.py\", \"--scenario_size=100\", \"--num-drones=2\", \"--num-sensors=9\", \"--exp_name=10mil_9-sensor-2-drone-100-size\", \"--max_episode_length=200\", \"--no-checkpoint-visual-evaluation\", \"--run-name=SensorIncrease\", \"--checkpoint-freq=1000000\", \"--total-timesteps=10000000\"],\n",
    "    [\"python\", \"main.py\", \"--scenario_size=100\", \"--num-drones=2\", \"--num-sensors=10\", \"--exp_name=10mil_10-sensor-2-drone-100-size\", \"--max_episode_length=200\", \"--no-checkpoint-visual-evaluation\", \"--run-name=SensorIncrease\", \"--checkpoint-freq=1000000\", \"--total-timesteps=10000000\"],\n",
    "]\n",
    "\n",
    "def run_experiment(experiment):\n",
    "    print(\"Running experiment: \", experiment)\n",
    "    subprocess.run(experiment)\n",
    "\n",
    "\n",
    "if __name__ == \"__main__\":\n",
    "    args = tyro.cli(Args)\n",
    "    pool = multiprocessing.Pool(processes=args.concurrency)\n",
    "    pool.map(run_experiment, experiments)\n",
    "```\n",
    "## Results"
   ]
  },
  {
   "cell_type": "code",
   "execution_count": 3,
   "id": "55a18daa-f83e-4e91-baa4-07e9484a9cfc",
   "metadata": {},
   "outputs": [
    {
     "data": {
      "text/html": [
       "\n",
       "      <iframe id=\"tensorboard-frame-5925c1f12974dacb\" width=\"100%\" height=\"800\" frameborder=\"0\">\n",
       "      </iframe>\n",
       "      <script>\n",
       "        (function() {\n",
       "          const frame = document.getElementById(\"tensorboard-frame-5925c1f12974dacb\");\n",
       "          const url = new URL(\"/\", window.location);\n",
       "          const port = 6006;\n",
       "          if (port) {\n",
       "            url.port = port;\n",
       "          }\n",
       "          frame.src = url;\n",
       "        })();\n",
       "      </script>\n",
       "    "
      ],
      "text/plain": [
       "<IPython.core.display.HTML object>"
      ]
     },
     "metadata": {},
     "output_type": "display_data"
    }
   ],
   "source": [
    "%tensorboard --logdir runs/sensor-increase"
   ]
  },
  {
   "cell_type": "markdown",
   "id": "1cce6066-e3f0-4079-a1e3-6b62e15b2ee3",
   "metadata": {},
   "source": [
    "## Conclusions\n",
    "- With 10 million training steps, no cases could be optimized. The three sensor case reaches a 1.5% success rate, which is still not great\n",
    "- Hypothesis: since the reward function is very sparse, it becomes more and more unlikely that a successful scenario is achieved during exploration\n",
    "- A denser reward function would probably help\n",
    "- More work is needed to make sure the algorithm converges for bigger scenarios"
   ]
  },
  {
   "cell_type": "code",
   "execution_count": null,
   "id": "a2d6a497-7272-423c-b745-7076738f8012",
   "metadata": {},
   "outputs": [],
   "source": []
  }
 ],
 "metadata": {
  "kernelspec": {
   "display_name": "Python 3 (ipykernel)",
   "language": "python",
   "name": "python3"
  },
  "language_info": {
   "codemirror_mode": {
    "name": "ipython",
    "version": 3
   },
   "file_extension": ".py",
   "mimetype": "text/x-python",
   "name": "python",
   "nbconvert_exporter": "python",
   "pygments_lexer": "ipython3",
   "version": "3.10.12"
  }
 },
 "nbformat": 4,
 "nbformat_minor": 5
}
