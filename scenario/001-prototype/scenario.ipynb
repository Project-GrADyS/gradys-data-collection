{
 "cells": [
  {
   "cell_type": "markdown",
   "id": "223b0d49",
   "metadata": {},
   "source": [
    "# Participants\n",
    "Multiple UAVs and Sensors (defined by variables `num_drones` and `num_sensors`) \n",
    "\n",
    "# Objectives\n",
    "UAVs must collect data from all sensors at least once. UAVs are constantly attempting to collect \n",
    "information from the space around them, so data is automatically collected once they get close\n",
    "enough to a sensor. When all sensors are visited an episode ends.\n",
    "\n",
    "# Constraints\n",
    "- Communication has limited range\n",
    "- UAV speed is limited (and fixed at 10m/s)\n",
    "- All participants must be within a square area of parametrized side.\n",
    "- Episode length is limited\n",
    "\n",
    "# Algorithm\n",
    "The algorithm used to solve this problem was DDPG, adapted \n",
    "from https://docs.cleanrl.dev/rl-algorithms/ddpg/#ddpg_continuous_actionpy. A single RL agent is trained \n",
    "using information from all UAVs (Centralized training with parameter sharing).\n",
    "\n",
    "The agents were integrated into GrADyS-SIM-Nextgen. Iterations happen every 0.5 seconds of simulation time.\n",
    "\n",
    "## State\n",
    "Agents (UAVs) know all agent's positions (including their own), they know their ID, they know the\n",
    "positions of all sensors and they know if sensors were visited or not.\n",
    "\n",
    "## Action\n",
    "Agents chose a direction to travel\n",
    "\n",
    "## Reward\n",
    "- 1 to all agents if all sensor data has been collected\n",
    "- -1 to a specific agent if it leaves the scenario area\n",
    "- 0 otherwize\n",
    "\n",
    "# Training\n",
    "Episodes start with UAVs being placed randomly in a small area in the center of the scenario. Sensors are \n",
    "placed randomly outside of that small area. The simulation runs until the time limit. If an agent leaves\n",
    "the scenario's area the simulation is terminated. If all sensors have been visited, the simulation is\n",
    "terminated.\n"
   ]
  },
  {
   "cell_type": "code",
   "execution_count": 1,
   "id": "e2ddff64",
   "metadata": {
    "ExecuteTime": {
     "end_time": "2024-05-12T22:01:56.184665300Z",
     "start_time": "2024-05-12T22:01:55.914258400Z"
    }
   },
   "outputs": [
    {
     "data": {
      "text/plain": [
       "device(type='cuda')"
      ]
     },
     "execution_count": 1,
     "metadata": {},
     "output_type": "execute_result"
    }
   ],
   "source": [
    "%load_ext tensorboard\n",
    "import torch\n",
    "torch.device(\"cuda\")"
   ]
  },
  {
   "cell_type": "markdown",
   "id": "ef431ddd",
   "metadata": {},
   "source": [
    "# Benchmark"
   ]
  },
  {
   "cell_type": "markdown",
   "id": "1cf8f334e79d6cf5",
   "metadata": {
    "collapsed": false,
    "jupyter": {
     "outputs_hidden": false
    }
   },
   "source": [
    "A benchmark was executed to figure out hot to best run simulation campaigns.\n",
    "\n",
    "Benchmarking code:\n",
    "\n",
    "```python\n",
    "import multiprocessing\n",
    "import subprocess\n",
    "\n",
    "parrallelism = 1\n",
    "\n",
    "experiments = [\n",
    "    [\"python\", \"main.py\", \"--scenario_size=50\", \"--num-drones=1\", \"--num-sensors=1\", f\"--exp_name=bench_parallel_{parrallelism}cpu\", \"--max_episode_length=60\", \"--no-checkpoint-visual-evaluation\", \"--total-timesteps=100000\"]\n",
    "    for _ in range(parrallelism)\n",
    "]\n",
    "\n",
    "def run_experiment(experiment):\n",
    "    print(\"Running experiment: \", experiment)\n",
    "    subprocess.run(experiment)\n",
    "\n",
    "\n",
    "if __name__ == \"__main__\":\n",
    "    pool = multiprocessing.Pool(processes=parrallelism)\n",
    "    pool.map(run_experiment, experiments)\n",
    "```"
   ]
  },
  {
   "cell_type": "markdown",
   "id": "65bdf30e",
   "metadata": {},
   "source": [
    "## Results\n",
    "| Parrallelism | Total SPS | Cuda? |\n",
    "| ------------ | --------- | ----- |\n",
    "| 10           | 940       | Yes   |\n",
    "| 8            | 904       | Yes   |\n",
    "| 1            | 280       | Yes   |"
   ]
  },
  {
   "cell_type": "markdown",
   "id": "b5f21d9a903a9d7f",
   "metadata": {
    "collapsed": false,
    "jupyter": {
     "outputs_hidden": false
    }
   },
   "source": [
    "# Preliminary Evaluation\n",
    "Several simulation scenarios were ran to evaluate the algorithm's performance on the scenario.\n",
    "\n",
    "## Parameters\n",
    "These are the parameters being studied:\n",
    "- Number of drones [1, 2]\n",
    "- Number of sensors [1, 2]\n",
    "- Scenario size [50, 100] (size of the side of the scenario square)\n",
    "- Training time [1_000_000, 10_000_000]\n",
    "\n",
    "## Benchmarking code\n",
    "```python\n",
    "import multiprocessing\n",
    "import subprocess\n",
    "from dataclasses import dataclass\n",
    "\n",
    "import tyro\n",
    "\n",
    "\n",
    "@dataclass\n",
    "class Args:\n",
    "    concurrency: int = 3\n",
    "\n",
    "experiments = [\n",
    "    [\"python\", \"main.py\", \"--scenario_size=50\", \"--num-drones=1\", \"--num-sensors=1\", \"--exp_name=1-sensor-1-drone-50-size\", \"--max_episode_length=60\", \"--no-checkpoint-visual-evaluation\"],\n",
    "    [\"python\", \"main.py\", \"--scenario_size=50\", \"--num-drones=1\", \"--num-sensors=2\", \"--exp_name=2-sensor-1-drone-50-size\", \"--max_episode_length=60\", \"--no-checkpoint-visual-evaluation\"],\n",
    "    [\"python\", \"main.py\", \"--scenario_size=50\", \"--num-drones=2\", \"--num-sensors=1\", \"--exp_name=1-sensor-2-drone-50-size\", \"--max_episode_length=60\", \"--no-checkpoint-visual-evaluation\"],\n",
    "    [\"python\", \"main.py\", \"--scenario_size=50\", \"--num-drones=2\", \"--num-sensors=2\", \"--exp_name=2-sensor-2-drone-50-size\", \"--max_episode_length=60\", \"--no-checkpoint-visual-evaluation\"],\n",
    "    [\"python\", \"main.py\", \"--scenario_size=100\", \"--num-drones=1\", \"--num-sensors=1\", \"--exp_name=1-sensor-1-drone-100-size\", \"--max_episode_length=60\", \"--no-checkpoint-visual-evaluation\"],\n",
    "    [\"python\", \"main.py\", \"--scenario_size=100\", \"--num-drones=1\", \"--num-sensors=2\", \"--exp_name=2-sensor-1-drone-100-size\", \"--max_episode_length=60\", \"--no-checkpoint-visual-evaluation\"],\n",
    "    [\"python\", \"main.py\", \"--scenario_size=100\", \"--num-drones=2\", \"--num-sensors=1\", \"--exp_name=1-sensor-2-drone-100-size\", \"--max_episode_length=60\", \"--no-checkpoint-visual-evaluation\"],\n",
    "    [\"python\", \"main.py\", \"--scenario_size=100\", \"--num-drones=2\", \"--num-sensors=2\", \"--exp_name=2-sensor-2-drone-100-size\", \"--max_episode_length=60\", \"--no-checkpoint-visual-evaluation\"],\n",
    "]\n",
    "\n",
    "def run_experiment(experiment):\n",
    "    print(\"Running experiment: \", experiment)\n",
    "    subprocess.run(experiment)\n",
    "\n",
    "\n",
    "if __name__ == \"__main__\":\n",
    "    args = tyro.cli(Args)\n",
    "    pool = multiprocessing.Pool(processes=args.concurrency)\n",
    "    pool.map(run_experiment, experiments)\n",
    "```\n",
    "\n",
    "## Results"
   ]
  },
  {
   "cell_type": "code",
   "execution_count": 2,
   "id": "db3b79f31fbdfbcd",
   "metadata": {
    "ExecuteTime": {
     "end_time": "2024-05-12T22:02:57.511056400Z",
     "start_time": "2024-05-12T22:02:57.450930200Z"
    },
    "collapsed": false,
    "jupyter": {
     "outputs_hidden": false
    }
   },
   "outputs": [
    {
     "data": {
      "text/html": [
       "\n",
       "      <iframe id=\"tensorboard-frame-db410ec17ac67e01\" width=\"100%\" height=\"800\" frameborder=\"0\">\n",
       "      </iframe>\n",
       "      <script>\n",
       "        (function() {\n",
       "          const frame = document.getElementById(\"tensorboard-frame-db410ec17ac67e01\");\n",
       "          const url = new URL(\"/\", window.location);\n",
       "          const port = 6006;\n",
       "          if (port) {\n",
       "            url.port = port;\n",
       "          }\n",
       "          frame.src = url;\n",
       "        })();\n",
       "      </script>\n",
       "    "
      ],
      "text/plain": [
       "<IPython.core.display.HTML object>"
      ]
     },
     "metadata": {},
     "output_type": "display_data"
    }
   ],
   "source": [
    "%tensorboard --logdir runs/preliminary"
   ]
  },
  {
   "cell_type": "markdown",
   "id": "2044981f",
   "metadata": {},
   "source": [
    "### Sensor number evaluation\n",
    "Does the system performance scale well with higher sensor counts? Running the following scenarios to find out:\n",
    "\n",
    "| Number of drones | Number of sensors | Sucess Rate |\n",
    "| ---------------- | ----------------- | ----------- |\n",
    "| 2                | 3                 |             |\n",
    "| 2                | 4                 |             |\n",
    "| 2                | 5                 |             |\n",
    "| 2                | 6                 |             |\n",
    "| 2                | 7                 |             |\n",
    "| 2                | 8                 |             |\n",
    "| 2                | 9                 |             |\n",
    "| 2                | 10                |             |"
   ]
  },
  {
   "cell_type": "markdown",
   "id": "87f97e32",
   "metadata": {},
   "source": [
    "## Simulações executadas:\n",
    "```py\n",
    "import multiprocessing\n",
    "import subprocess\n",
    "from dataclasses import dataclass\n",
    "\n",
    "import tyro\n",
    "\n",
    "\n",
    "@dataclass\n",
    "class Args:\n",
    "    concurrency: int = 3\n",
    "\n",
    "experiments = [\n",
    "    [\"python\", \"main.py\", \"--scenario_size=100\", \"--num-drones=2\", \"--num-sensors=3\", \"--exp_name=10mil_3-sensor-2-drone-100-size\", \"--max_episode_length=200\", \"--no-checkpoint-visual-evaluation\", \"--run-name=SensorIncrease\", \"--checkpoint-freq=1000000\", \"--total-timesteps=10000000\"],\n",
    "    [\"python\", \"main.py\", \"--scenario_size=100\", \"--num-drones=2\", \"--num-sensors=4\", \"--exp_name=10mil_4-sensor-2-drone-100-size\", \"--max_episode_length=200\", \"--no-checkpoint-visual-evaluation\", \"--run-name=SensorIncrease\", \"--checkpoint-freq=1000000\", \"--total-timesteps=10000000\"],\n",
    "    [\"python\", \"main.py\", \"--scenario_size=100\", \"--num-drones=2\", \"--num-sensors=5\", \"--exp_name=10mil_5-sensor-2-drone-100-size\", \"--max_episode_length=200\", \"--no-checkpoint-visual-evaluation\", \"--run-name=SensorIncrease\", \"--checkpoint-freq=1000000\", \"--total-timesteps=10000000\"],\n",
    "    [\"python\", \"main.py\", \"--scenario_size=100\", \"--num-drones=2\", \"--num-sensors=6\", \"--exp_name=10mil_6-sensor-2-drone-100-size\", \"--max_episode_length=200\", \"--no-checkpoint-visual-evaluation\", \"--run-name=SensorIncrease\", \"--checkpoint-freq=1000000\", \"--total-timesteps=10000000\"],\n",
    "    [\"python\", \"main.py\", \"--scenario_size=100\", \"--num-drones=2\", \"--num-sensors=7\", \"--exp_name=10mil_7-sensor-2-drone-100-size\", \"--max_episode_length=200\", \"--no-checkpoint-visual-evaluation\", \"--run-name=SensorIncrease\", \"--checkpoint-freq=1000000\", \"--total-timesteps=10000000\"],\n",
    "    [\"python\", \"main.py\", \"--scenario_size=100\", \"--num-drones=2\", \"--num-sensors=8\", \"--exp_name=10mil_8-sensor-2-drone-100-size\", \"--max_episode_length=200\", \"--no-checkpoint-visual-evaluation\", \"--run-name=SensorIncrease\", \"--checkpoint-freq=1000000\", \"--total-timesteps=10000000\"],\n",
    "    [\"python\", \"main.py\", \"--scenario_size=100\", \"--num-drones=2\", \"--num-sensors=9\", \"--exp_name=10mil_9-sensor-2-drone-100-size\", \"--max_episode_length=200\", \"--no-checkpoint-visual-evaluation\", \"--run-name=SensorIncrease\", \"--checkpoint-freq=1000000\", \"--total-timesteps=10000000\"],\n",
    "    [\"python\", \"main.py\", \"--scenario_size=100\", \"--num-drones=2\", \"--num-sensors=10\", \"--exp_name=10mil_10-sensor-2-drone-100-size\", \"--max_episode_length=200\", \"--no-checkpoint-visual-evaluation\", \"--run-name=SensorIncrease\", \"--checkpoint-freq=1000000\", \"--total-timesteps=10000000\"],\n",
    "]\n",
    "\n",
    "def run_experiment(experiment):\n",
    "    print(\"Running experiment: \", experiment)\n",
    "    subprocess.run(experiment)\n",
    "\n",
    "\n",
    "if __name__ == \"__main__\":\n",
    "    args = tyro.cli(Args)\n",
    "    pool = multiprocessing.Pool(processes=args.concurrency)\n",
    "    pool.map(run_experiment, experiments)\n",
    "```"
   ]
  },
  {
   "cell_type": "code",
   "execution_count": null,
   "id": "43f2fe8a",
   "metadata": {},
   "outputs": [],
   "source": []
  },
  {
   "cell_type": "code",
   "execution_count": null,
   "id": "383d2ea8",
   "metadata": {},
   "outputs": [],
   "source": []
  }
 ],
 "metadata": {
  "kernelspec": {
   "display_name": "Python 3 (ipykernel)",
   "language": "python",
   "name": "python3"
  },
  "language_info": {
   "codemirror_mode": {
    "name": "ipython",
    "version": 3
   },
   "file_extension": ".py",
   "mimetype": "text/x-python",
   "name": "python",
   "nbconvert_exporter": "python",
   "pygments_lexer": "ipython3",
   "version": "3.10.12"
  }
 },
 "nbformat": 4,
 "nbformat_minor": 5
}
