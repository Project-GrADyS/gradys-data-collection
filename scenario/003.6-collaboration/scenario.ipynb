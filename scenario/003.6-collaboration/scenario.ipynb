{
 "cells": [
  {
   "cell_type": "markdown",
   "id": "f1cbc02d-dfe9-4ba1-9425-97cd078069b2",
   "metadata": {},
   "source": "# Third Scenario - Collaboration"
  },
  {
   "cell_type": "code",
   "execution_count": 6,
   "id": "be78c068-1a51-4dc9-9884-ae0e7872ddd1",
   "metadata": {},
   "outputs": [
    {
     "name": "stdout",
     "output_type": "stream",
     "text": [
      "The tensorboard extension is already loaded. To reload it, use:\n",
      "  %reload_ext tensorboard\n"
     ]
    }
   ],
   "source": [
    "%load_ext tensorboard"
   ]
  }
 ],
 "metadata": {
  "kernelspec": {
   "display_name": "Python 3 (ipykernel)",
   "language": "python",
   "name": "python3"
  },
  "language_info": {
   "codemirror_mode": {
    "name": "ipython",
    "version": 3
   },
   "file_extension": ".py",
   "mimetype": "text/x-python",
   "name": "python",
   "nbconvert_exporter": "python",
   "pygments_lexer": "ipython3",
   "version": "3.10.12"
  }
 },
 "nbformat": 4,
 "nbformat_minor": 5
}
